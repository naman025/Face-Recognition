{
 "metadata": {
  "language_info": {
   "codemirror_mode": {
    "name": "ipython",
    "version": 3
   },
   "file_extension": ".py",
   "mimetype": "text/x-python",
   "name": "python",
   "nbconvert_exporter": "python",
   "pygments_lexer": "ipython3",
   "version": "3.9.1-final"
  },
  "orig_nbformat": 2,
  "kernelspec": {
   "name": "python3",
   "display_name": "Python 3",
   "language": "python"
  }
 },
 "nbformat": 4,
 "nbformat_minor": 2,
 "cells": [
  {
   "cell_type": "code",
   "execution_count": 2,
   "metadata": {},
   "outputs": [],
   "source": [
    "import numpy as np"
   ]
  },
  {
   "cell_type": "code",
   "execution_count": null,
   "metadata": {},
   "outputs": [],
   "source": [
    "def dist(x1, x2):\n",
    "    return np.sqrt(sum((x1-x2)**2))\n",
    "\n",
    "def knn(X, Y, queryPt, k = 5):\n",
    "    \n",
    "    vals = []\n",
    "    m = X.shape[0]\n",
    "\n",
    "    for i in range(m):\n",
    "        d = dist(queryPt, X[i])\n",
    "        vals.append((d,Y[i]))\n",
    "\n",
    "    vals = sorted(vals)\n",
    "\n",
    "    vals = vals[:k]\n",
    "    vals = np.array(vals)\n",
    "\n",
    "    vals = np.unique(vals[:1],return_cunts=True)\n",
    "    index = vals[1].argmax()\n",
    "\n",
    "    return  vals[0][index]\n",
    "\n"
   ]
  },
  {
   "cell_type": "code",
   "execution_count": null,
   "metadata": {},
   "outputs": [],
   "source": []
  }
 ]
}