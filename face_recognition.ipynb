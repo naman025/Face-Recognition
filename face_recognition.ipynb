{
 "metadata": {
  "language_info": {
   "codemirror_mode": {
    "name": "ipython",
    "version": 3
   },
   "file_extension": ".py",
   "mimetype": "text/x-python",
   "name": "python",
   "nbconvert_exporter": "python",
   "pygments_lexer": "ipython3",
   "version": "3.9.1-final"
  },
  "orig_nbformat": 2,
  "kernelspec": {
   "name": "python3",
   "display_name": "Python 3",
   "language": "python"
  }
 },
 "nbformat": 4,
 "nbformat_minor": 2,
 "cells": [
  {
   "cell_type": "code",
   "execution_count": 1,
   "metadata": {},
   "outputs": [],
   "source": [
    "import cv2\n",
    "import numpy as np\n",
    "import os"
   ]
  },
  {
   "source": [
    "## KNN Code"
   ],
   "cell_type": "markdown",
   "metadata": {}
  },
  {
   "cell_type": "code",
   "execution_count": 2,
   "metadata": {},
   "outputs": [],
   "source": [
    "def dist(x1, x2):\n",
    "    return np.sqrt(sum((x1-x2)**2))\n",
    "\n",
    "def knn(X, Y, queryPt, k = 5):\n",
    "    \n",
    "    vals = []\n",
    "    m = X.shape[0]\n",
    "\n",
    "    for i in range(m):\n",
    "        d = dist(queryPt, X[i])\n",
    "        vals.append((d,Y[i]))\n",
    "\n",
    "    vals = sorted(vals)\n",
    "\n",
    "    vals = vals[:k]\n",
    "    vals = np.array(vals)\n",
    "\n",
    "    vals = np.unique(vals[:1],return_counts=True)\n",
    "    index = vals[1].argmax()\n",
    "\n",
    "    return  vals[0][index]\n",
    "\n"
   ]
  },
  {
   "source": [
    "## Data Preparation"
   ],
   "cell_type": "markdown",
   "metadata": {}
  },
  {
   "cell_type": "code",
   "execution_count": 5,
   "metadata": {},
   "outputs": [
    {
     "output_type": "stream",
     "name": "stdout",
     "text": [
      "Loaded Barack Obama.npy\n(30, 30000) (30,)\nLoaded Bill Gates.npy\n(30, 30000) (30,)\nLoaded Donald Trump.npy\n(30, 30000) (30,)\nLoaded Elon Musk.npy\n(30, 30000) (30,)\nLoaded Jack Ma.npy\n(30, 30000) (30,)\nLoaded Jeff Bezos.npy\n(30, 30000) (30,)\nLoaded Mark Zuckerberg.npy\n(30, 30000) (30,)\nLoaded Modi.npy\n(30, 30000) (30,)\nLoaded Mukesh Ambani.npy\n(30, 30000) (30,)\nLoaded Naman.npy\n(50, 30000) (50,)\nLoaded Satya Nadella.npy\n(30, 30000) (30,)\nLoaded Steve Jobs.npy\n(30, 30000) (30,)\nLoaded Sundar Pichai.npy\n(30, 30000) (30,)\nLoaded Tom Cruise.npy\n(30, 30000) (30,)\nLoaded Xi Jinping.npy\n(30, 30000) (30,)\n(470, 30000) (470, 1)\n"
     ]
    }
   ],
   "source": [
    "datasetPath = \"./data/\"\n",
    "faceData = []\n",
    "labels = []\n",
    "\n",
    "class_id = 0\n",
    "names = {}\n",
    "\n",
    "for fx in os.listdir(datasetPath):\n",
    "    if(fx.endswith('.npy')):\n",
    "        print(\"Loaded \"+fx)\n",
    "        names[class_id] = fx[:-4]\n",
    "        data_item = np.load(datasetPath+fx)\n",
    "        faceData.append(data_item)\n",
    "\n",
    "        target = class_id * np.ones((data_item.shape[0],))\n",
    "        labels.append(target)\n",
    "        class_id += 1\n",
    "        print(data_item.shape, target.shape)\n",
    "\n",
    "faceDataset = np.concatenate(faceData, axis=0)\n",
    "faceLabels = np.concatenate(labels, axis=0).reshape(-1,1)\n",
    "\n",
    "print(faceDataset.shape,faceLabels.shape)\n",
    "\n",
    "trainSet = np.concatenate((faceDataset,faceLabels), axis=1)"
   ]
  },
  {
   "source": [
    "## Read Video Stream and Extract Faces"
   ],
   "cell_type": "markdown",
   "metadata": {}
  },
  {
   "cell_type": "code",
   "execution_count": 6,
   "metadata": {},
   "outputs": [],
   "source": [
    "def detectFace(img, CascadeClassifier, scaleFactor, minNeighbours):\n",
    "    faces = CascadeClassifier.detectMultiScale(img, scaleFactor, minNeighbours)\n",
    "    color = (255,0,0)\n",
    "\n",
    "    for face in faces:\n",
    "        x,y,w,h = face\n",
    "        cv2.rectangle(img, (x,y), (x+w,y+h), (255,0,0),1)\n",
    "\n",
    "        # Extract ROI\n",
    "        offset = 10\n",
    "        roi = img[y-offset : y+h+offset, x-offset : x+w+offset]\n",
    "        roi = cv2.resize(roi, (100,100))\n",
    "\n",
    "        out = knn(faceDataset, faceLabels, roi.flatten())\n",
    "        predName = names[int(out)]\n",
    "        cv2.putText(img, predName, (x,y-10), cv2.FONT_HERSHEY_SIMPLEX,1,(255,0,0),2,cv2.LINE_AA)\n",
    "    return img\n",
    "\n",
    "cap = cv2.VideoCapture(0)\n",
    "face_cascade = cv2.CascadeClassifier(\"haarcascade_frontalface_alt.xml\")\n",
    "\n",
    "scaleFactor = 1.1\n",
    "minNeighbours = 10\n",
    "\n",
    "test = \"./Test/\"\n",
    "images = os.listdir(test)\n",
    "image = images[0]\n",
    "img = cv2.imread(test+image)\n",
    "img = detectFace(img, face_cascade, scaleFactor, minNeighbours)\n",
    "cv2.imshow(\"Image\", img)\n",
    "if cv2.waitKey(1) & 0xff == ord('q'):\n",
    "    cv2.destroyAllWindows()"
   ]
  },
  {
   "cell_type": "code",
   "execution_count": 5,
   "metadata": {},
   "outputs": [
    {
     "output_type": "execute_result",
     "data": {
      "text/plain": [
       "'./Test/1.jpg'"
      ]
     },
     "metadata": {},
     "execution_count": 5
    }
   ],
   "source": []
  },
  {
   "cell_type": "code",
   "execution_count": null,
   "metadata": {},
   "outputs": [],
   "source": []
  }
 ]
}