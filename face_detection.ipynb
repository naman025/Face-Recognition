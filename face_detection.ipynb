{
 "metadata": {
  "language_info": {
   "codemirror_mode": {
    "name": "ipython",
    "version": 3
   },
   "file_extension": ".py",
   "mimetype": "text/x-python",
   "name": "python",
   "nbconvert_exporter": "python",
   "pygments_lexer": "ipython3",
   "version": "3.9.1-final"
  },
  "orig_nbformat": 2,
  "kernelspec": {
   "name": "python3",
   "display_name": "Python 3",
   "language": "python"
  }
 },
 "nbformat": 4,
 "nbformat_minor": 2,
 "cells": [
  {
   "cell_type": "code",
   "execution_count": 4,
   "metadata": {},
   "outputs": [],
   "source": [
    "import cv2"
   ]
  },
  {
   "cell_type": "code",
   "execution_count": 5,
   "metadata": {},
   "outputs": [],
   "source": [
    "def detectFace(img, CascadeClassifier, scaleFactor, minNeighbours):\n",
    "    faces = CascadeClassifier.detectMultiScale(img, scaleFactor, minNeighbours)\n",
    "\n",
    "    for face in faces:\n",
    "        x,y,w,h = face\n",
    "        cv2.rectangle(img, (x,y), (x+w,y+h), (255,0,0),1)\n",
    "    \n",
    "    return img\n",
    "\n",
    "cap = cv2.VideoCapture(0)\n",
    "face_cascade = cv2.CascadeClassifier(\"haarcascade_frontalface_alt.xml\")\n",
    "\n",
    "while True:\n",
    "    ret, frame = cap.read()\n",
    "\n",
    "    if ret == False:\n",
    "        continue\n",
    "\n",
    "    scaleFactor = 1.1\n",
    "    minNeighbours = 4\n",
    "    img = detectFace(frame, face_cascade, scaleFactor, minNeighbours)\n",
    "\n",
    "    cv2.imshow(\"Image\", img)\n",
    "\n",
    "\n",
    "    key_pressed = cv2.waitKey(1) & 0xff\n",
    "    if key_pressed == ord('q'):\n",
    "        break\n",
    "\n",
    "cap.release()\n",
    "cv2.destroyAllWindows()\n"
   ]
  },
  {
   "cell_type": "code",
   "execution_count": null,
   "metadata": {},
   "outputs": [],
   "source": []
  },
  {
   "cell_type": "code",
   "execution_count": null,
   "metadata": {},
   "outputs": [],
   "source": []
  },
  {
   "cell_type": "code",
   "execution_count": null,
   "metadata": {},
   "outputs": [],
   "source": [
    "import cv2\n",
    "\n",
    "# Method to generate dataset to recognize a person\n",
    "def generate_dataset(img, id, img_id):\n",
    "    # write image in data dir\n",
    "    cv2.imwrite(\"data/user.\"+str(id)+\".\"+str(img_id)+\".jpg\", img)\n",
    "\n",
    "\n",
    "# Method to detect the features\n",
    "def detect(img, faceCascade, img_id):\n",
    "    color = {\"blue\":(255,0,0), \"red\":(0,0,255), \"green\":(0,255,0), \"white\":(255,255,255)}\n",
    "    coords = draw_boundary(img, faceCascade, 1.1, 10, color['blue'], \"Face\")\n",
    "    # If feature is detected, the draw_boundary method will return the x,y coordinates and width and height of rectangle else the length of coords will be 0\n",
    "    if len(coords)==4:\n",
    "        # Updating region of interest by cropping image\n",
    "        roi_img = img[coords[1]:coords[1]+coords[3], coords[0]:coords[0]+coords[2]]\n",
    "        # Assign unique id to each user\n",
    "        user_id = 1\n",
    "        # img_id to make the name of each image unique\n",
    "        generate_dataset(roi_img, user_id, img_id)\n",
    "\n",
    "    return img\n",
    "\n",
    "\n",
    "# Loading classifiers\n",
    "faceCascade = cv2.CascadeClassifier('haarcascade_frontalface_default.xml')\n",
    "\n",
    "\n",
    "# Capturing real time video stream. 0 for built-in web-cams, 0 or -1 for external web-cams\n",
    "video_capture = cv2.VideoCapture(-1)\n",
    "\n",
    "# Initialize img_id with 0\n",
    "img_id = 0\n",
    "\n",
    "while True:\n",
    "    if img_id % 50 == 0:\n",
    "        print(\"Collected \", img_id,\" images\")\n",
    "    # Reading image from video stream\n",
    "    _, img = video_capture.read()\n",
    "    # Call method we defined above\n",
    "    img = detect(img, faceCascade, img_id)\n",
    "    # Writing processed image in a new window\n",
    "    cv2.imshow(\"face detection\", img)\n",
    "    img_id += 1\n",
    "    if cv2.waitKey(1) & 0xFF == ord('q'):\n",
    "        break\n",
    "\n",
    "# releasing web-cam\n",
    "video_capture.release()\n",
    "# Destroying output window\n",
    "cv2.destroyAllWindows()"
   ]
  }
 ]
}